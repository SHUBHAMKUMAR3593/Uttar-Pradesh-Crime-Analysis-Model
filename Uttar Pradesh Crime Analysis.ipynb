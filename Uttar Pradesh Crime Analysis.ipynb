{
 "cells": [
  {
   "cell_type": "markdown",
   "metadata": {},
   "source": [
    "# Uttar Pradesh Crime Analysis\n",
    "#By- Shubham Kumar\n",
    "#Dated: July 12,2021"
   ]
  },
  {
   "cell_type": "code",
   "execution_count": 1,
   "metadata": {},
   "outputs": [
    {
     "data": {
      "text/html": [
       "<img src=\"https://www.gannett-cdn.com/-mm-/4a94aaab8e826ca8563bd0e434c9fe36f1dc920f/c=0-0-399-300&r=x404&c=534x401/local/-/media/2016/07/20/FortMyers/FortMyers/636046215443097272-CRIME-gen-NP.jpg\"/>"
      ],
      "text/plain": [
       "<IPython.core.display.Image object>"
      ]
     },
     "execution_count": 1,
     "metadata": {},
     "output_type": "execute_result"
    }
   ],
   "source": [
    "from IPython.display import Image\n",
    "Image(url='https://www.gannett-cdn.com/-mm-/4a94aaab8e826ca8563bd0e434c9fe36f1dc920f/c=0-0-399-300&r=x404&c=534x401/local/-/media/2016/07/20/FortMyers/FortMyers/636046215443097272-CRIME-gen-NP.jpg')"
   ]
  },
  {
   "cell_type": "code",
   "execution_count": 2,
   "metadata": {},
   "outputs": [
    {
     "name": "stderr",
     "output_type": "stream",
     "text": [
      "/home/aarush100616/anaconda3/lib/python3.7/site-packages/statsmodels/tools/_testing.py:19: FutureWarning: pandas.util.testing is deprecated. Use the functions in the public API at pandas.testing instead.\n",
      "  import pandas.util.testing as tm\n"
     ]
    }
   ],
   "source": [
    "import pandas as pd\n",
    "import numpy as np\n",
    "import matplotlib.pyplot as plt\n",
    "import seaborn as sns\n",
    "%matplotlib inline\n",
    "sns.set_style('whitegrid')\n",
    "sns.set()"
   ]
  },
  {
   "cell_type": "code",
   "execution_count": 3,
   "metadata": {},
   "outputs": [],
   "source": [
    "df=pd.read_csv(r'/home/aarush100616/Downloads/Projects/Uttar Pradesh Crime Analysis/MR data - Compiled Data Set.csv')"
   ]
  },
  {
   "cell_type": "code",
   "execution_count": 4,
   "metadata": {
    "scrolled": true
   },
   "outputs": [
    {
     "data": {
      "text/html": [
       "<div>\n",
       "<style scoped>\n",
       "    .dataframe tbody tr th:only-of-type {\n",
       "        vertical-align: middle;\n",
       "    }\n",
       "\n",
       "    .dataframe tbody tr th {\n",
       "        vertical-align: top;\n",
       "    }\n",
       "\n",
       "    .dataframe thead th {\n",
       "        text-align: right;\n",
       "    }\n",
       "</style>\n",
       "<table border=\"1\" class=\"dataframe\">\n",
       "  <thead>\n",
       "    <tr style=\"text-align: right;\">\n",
       "      <th></th>\n",
       "      <th>City</th>\n",
       "      <th>Title</th>\n",
       "      <th>Text</th>\n",
       "      <th>Murder Happened with reason:\\n1:Property/Land Disputes,\\n2:Family Dispute\\n3:Petty Quarrels,\\n4:Money Disputes, \\n5:Personal Vendetta, \\n6:Love Affairs, \\n7:Casteism\\n8: Unknown/other</th>\n",
       "      <th>Number of child victims</th>\n",
       "      <th>Number of male victims(adult)</th>\n",
       "      <th>Number of female victims(adult)</th>\n",
       "      <th>Kidnnaping:\\nNumber of child victims</th>\n",
       "      <th>Number of male(adult)</th>\n",
       "      <th>Number of female(adult)</th>\n",
       "      <th>Crime Against Women ( Combined ):\\n1. Murder with Rape \\n2. Dowry Deaths(Sec. 3048)\\n3. Suicide(sec 305/306)\\n4. Kidnapping(All)\\n5. Acid Attack(Sec. 326A IPC)\\n6. Cruelty by Husband/in-laws((Sec.498 A IPC)\\n7. Rape only(Sec. 376 or 511 IPC)\\n8. Assault on Women with Intent to Outrage her Modesty (Sec. 354 IPC)\\n9. Cyber Crimes against Women\\n10. Protection of Children from Sexual Offences Act</th>\n",
       "      <th>Number of adult victims</th>\n",
       "      <th>Number of childs invoved</th>\n",
       "    </tr>\n",
       "  </thead>\n",
       "  <tbody>\n",
       "    <tr>\n",
       "      <th>0</th>\n",
       "      <td>Ghaziabad</td>\n",
       "      <td>Minor molests mute girl, sent to observation home</td>\n",
       "      <td>GHAZIABAD: A 12-year-old boy was sent to an ob...</td>\n",
       "      <td>NaN</td>\n",
       "      <td>NaN</td>\n",
       "      <td>NaN</td>\n",
       "      <td>NaN</td>\n",
       "      <td>NaN</td>\n",
       "      <td>NaN</td>\n",
       "      <td>NaN</td>\n",
       "      <td>8,10</td>\n",
       "      <td>NaN</td>\n",
       "      <td>3.0</td>\n",
       "    </tr>\n",
       "    <tr>\n",
       "      <th>1</th>\n",
       "      <td>Ghaziabad</td>\n",
       "      <td>Family out to buy car robbed of Rs 1 lakh by b...</td>\n",
       "      <td>GHAZIABAD: A family that had visited an automo...</td>\n",
       "      <td>NaN</td>\n",
       "      <td>NaN</td>\n",
       "      <td>NaN</td>\n",
       "      <td>NaN</td>\n",
       "      <td>NaN</td>\n",
       "      <td>NaN</td>\n",
       "      <td>NaN</td>\n",
       "      <td>NaN</td>\n",
       "      <td>NaN</td>\n",
       "      <td>NaN</td>\n",
       "    </tr>\n",
       "    <tr>\n",
       "      <th>2</th>\n",
       "      <td>Ghaziabad</td>\n",
       "      <td>This gang posed as cops to extort youths, couples</td>\n",
       "      <td>GHAZIABAD: Five persons were arrested on Monda...</td>\n",
       "      <td>NaN</td>\n",
       "      <td>NaN</td>\n",
       "      <td>NaN</td>\n",
       "      <td>NaN</td>\n",
       "      <td>NaN</td>\n",
       "      <td>NaN</td>\n",
       "      <td>NaN</td>\n",
       "      <td>NaN</td>\n",
       "      <td>NaN</td>\n",
       "      <td>NaN</td>\n",
       "    </tr>\n",
       "    <tr>\n",
       "      <th>3</th>\n",
       "      <td>Ghaziabad</td>\n",
       "      <td>Residents object to loud music, thrashed in Gh...</td>\n",
       "      <td>Ghaziabad: Four tenants, including two soldier...</td>\n",
       "      <td>NaN</td>\n",
       "      <td>NaN</td>\n",
       "      <td>NaN</td>\n",
       "      <td>NaN</td>\n",
       "      <td>NaN</td>\n",
       "      <td>NaN</td>\n",
       "      <td>NaN</td>\n",
       "      <td>NaN</td>\n",
       "      <td>NaN</td>\n",
       "      <td>NaN</td>\n",
       "    </tr>\n",
       "    <tr>\n",
       "      <th>4</th>\n",
       "      <td>Ghaziabad</td>\n",
       "      <td>Man kills self after being refused money for d...</td>\n",
       "      <td>GHAZIABAD: A 25-year-old allegedly committed s...</td>\n",
       "      <td>NaN</td>\n",
       "      <td>NaN</td>\n",
       "      <td>NaN</td>\n",
       "      <td>NaN</td>\n",
       "      <td>NaN</td>\n",
       "      <td>NaN</td>\n",
       "      <td>NaN</td>\n",
       "      <td>NaN</td>\n",
       "      <td>NaN</td>\n",
       "      <td>NaN</td>\n",
       "    </tr>\n",
       "    <tr>\n",
       "      <th>...</th>\n",
       "      <td>...</td>\n",
       "      <td>...</td>\n",
       "      <td>...</td>\n",
       "      <td>...</td>\n",
       "      <td>...</td>\n",
       "      <td>...</td>\n",
       "      <td>...</td>\n",
       "      <td>...</td>\n",
       "      <td>...</td>\n",
       "      <td>...</td>\n",
       "      <td>...</td>\n",
       "      <td>...</td>\n",
       "      <td>...</td>\n",
       "    </tr>\n",
       "    <tr>\n",
       "      <th>461</th>\n",
       "      <td>Lucknow</td>\n",
       "      <td>Top cop stirs row, says girl filed case after ...</td>\n",
       "      <td>LUCKNOW: Hours after the horrific crime in Unn...</td>\n",
       "      <td>NaN</td>\n",
       "      <td>NaN</td>\n",
       "      <td>NaN</td>\n",
       "      <td>NaN</td>\n",
       "      <td>NaN</td>\n",
       "      <td>NaN</td>\n",
       "      <td>NaN</td>\n",
       "      <td>7</td>\n",
       "      <td>1.0</td>\n",
       "      <td>NaN</td>\n",
       "    </tr>\n",
       "    <tr>\n",
       "      <th>462</th>\n",
       "      <td>Lucknow</td>\n",
       "      <td>Unnao girl passes away after 40-hour battle fo...</td>\n",
       "      <td>LUCKNOW/UNNAO: The Unnao gang-rape survivor wh...</td>\n",
       "      <td>NaN</td>\n",
       "      <td>NaN</td>\n",
       "      <td>NaN</td>\n",
       "      <td>NaN</td>\n",
       "      <td>NaN</td>\n",
       "      <td>NaN</td>\n",
       "      <td>NaN</td>\n",
       "      <td>1</td>\n",
       "      <td>1.0</td>\n",
       "      <td>NaN</td>\n",
       "    </tr>\n",
       "    <tr>\n",
       "      <th>463</th>\n",
       "      <td>Lucknow</td>\n",
       "      <td>Lucknow: Stalker thrashes dad, girl poisons he...</td>\n",
       "      <td>LUCKNOW: A 17-year-old girl consumed poison at...</td>\n",
       "      <td>NaN</td>\n",
       "      <td>NaN</td>\n",
       "      <td>NaN</td>\n",
       "      <td>NaN</td>\n",
       "      <td>NaN</td>\n",
       "      <td>NaN</td>\n",
       "      <td>NaN</td>\n",
       "      <td>3,8</td>\n",
       "      <td>NaN</td>\n",
       "      <td>1.0</td>\n",
       "    </tr>\n",
       "    <tr>\n",
       "      <th>464</th>\n",
       "      <td>Lucknow</td>\n",
       "      <td>Uttar Pradesh: Woman accuses boss of harassment</td>\n",
       "      <td>LUCKNOW: A 30-year-old employee of a real esta...</td>\n",
       "      <td>NaN</td>\n",
       "      <td>NaN</td>\n",
       "      <td>NaN</td>\n",
       "      <td>NaN</td>\n",
       "      <td>NaN</td>\n",
       "      <td>NaN</td>\n",
       "      <td>NaN</td>\n",
       "      <td>8</td>\n",
       "      <td>1.0</td>\n",
       "      <td>NaN</td>\n",
       "    </tr>\n",
       "    <tr>\n",
       "      <th>465</th>\n",
       "      <td>Lucknow</td>\n",
       "      <td>Buyer knifes fish vendor to death over Rs 10 i...</td>\n",
       "      <td>LUCKNOW: A customer knifed a fish vendor to de...</td>\n",
       "      <td>Petty Quarrels</td>\n",
       "      <td>NaN</td>\n",
       "      <td>1.0</td>\n",
       "      <td>NaN</td>\n",
       "      <td>NaN</td>\n",
       "      <td>NaN</td>\n",
       "      <td>NaN</td>\n",
       "      <td>NaN</td>\n",
       "      <td>NaN</td>\n",
       "      <td>NaN</td>\n",
       "    </tr>\n",
       "  </tbody>\n",
       "</table>\n",
       "<p>466 rows × 13 columns</p>\n",
       "</div>"
      ],
      "text/plain": [
       "         City                                               Title  \\\n",
       "0    Ghaziabad  Minor molests mute girl, sent to observation home   \n",
       "1    Ghaziabad  Family out to buy car robbed of Rs 1 lakh by b...   \n",
       "2    Ghaziabad  This gang posed as cops to extort youths, couples   \n",
       "3    Ghaziabad  Residents object to loud music, thrashed in Gh...   \n",
       "4    Ghaziabad  Man kills self after being refused money for d...   \n",
       "..         ...                                                ...   \n",
       "461    Lucknow  Top cop stirs row, says girl filed case after ...   \n",
       "462    Lucknow  Unnao girl passes away after 40-hour battle fo...   \n",
       "463    Lucknow  Lucknow: Stalker thrashes dad, girl poisons he...   \n",
       "464    Lucknow    Uttar Pradesh: Woman accuses boss of harassment   \n",
       "465    Lucknow  Buyer knifes fish vendor to death over Rs 10 i...   \n",
       "\n",
       "                                                  Text  \\\n",
       "0    GHAZIABAD: A 12-year-old boy was sent to an ob...   \n",
       "1    GHAZIABAD: A family that had visited an automo...   \n",
       "2    GHAZIABAD: Five persons were arrested on Monda...   \n",
       "3    Ghaziabad: Four tenants, including two soldier...   \n",
       "4    GHAZIABAD: A 25-year-old allegedly committed s...   \n",
       "..                                                 ...   \n",
       "461  LUCKNOW: Hours after the horrific crime in Unn...   \n",
       "462  LUCKNOW/UNNAO: The Unnao gang-rape survivor wh...   \n",
       "463  LUCKNOW: A 17-year-old girl consumed poison at...   \n",
       "464  LUCKNOW: A 30-year-old employee of a real esta...   \n",
       "465  LUCKNOW: A customer knifed a fish vendor to de...   \n",
       "\n",
       "    Murder Happened with reason:\\n1:Property/Land Disputes,\\n2:Family Dispute\\n3:Petty Quarrels,\\n4:Money Disputes, \\n5:Personal Vendetta, \\n6:Love Affairs, \\n7:Casteism\\n8: Unknown/other  \\\n",
       "0                                                  NaN                                                                                                                                        \n",
       "1                                                  NaN                                                                                                                                        \n",
       "2                                                  NaN                                                                                                                                        \n",
       "3                                                  NaN                                                                                                                                        \n",
       "4                                                  NaN                                                                                                                                        \n",
       "..                                                 ...                                                                                                                                        \n",
       "461                                                NaN                                                                                                                                        \n",
       "462                                                NaN                                                                                                                                        \n",
       "463                                                NaN                                                                                                                                        \n",
       "464                                                NaN                                                                                                                                        \n",
       "465                                     Petty Quarrels                                                                                                                                        \n",
       "\n",
       "     Number of child victims  Number of male victims(adult)  \\\n",
       "0                        NaN                            NaN   \n",
       "1                        NaN                            NaN   \n",
       "2                        NaN                            NaN   \n",
       "3                        NaN                            NaN   \n",
       "4                        NaN                            NaN   \n",
       "..                       ...                            ...   \n",
       "461                      NaN                            NaN   \n",
       "462                      NaN                            NaN   \n",
       "463                      NaN                            NaN   \n",
       "464                      NaN                            NaN   \n",
       "465                      NaN                            1.0   \n",
       "\n",
       "     Number of female victims(adult)  Kidnnaping:\\nNumber of child victims  \\\n",
       "0                                NaN                                   NaN   \n",
       "1                                NaN                                   NaN   \n",
       "2                                NaN                                   NaN   \n",
       "3                                NaN                                   NaN   \n",
       "4                                NaN                                   NaN   \n",
       "..                               ...                                   ...   \n",
       "461                              NaN                                   NaN   \n",
       "462                              NaN                                   NaN   \n",
       "463                              NaN                                   NaN   \n",
       "464                              NaN                                   NaN   \n",
       "465                              NaN                                   NaN   \n",
       "\n",
       "     Number of male(adult)   Number of female(adult)  \\\n",
       "0                       NaN                      NaN   \n",
       "1                       NaN                      NaN   \n",
       "2                       NaN                      NaN   \n",
       "3                       NaN                      NaN   \n",
       "4                       NaN                      NaN   \n",
       "..                      ...                      ...   \n",
       "461                     NaN                      NaN   \n",
       "462                     NaN                      NaN   \n",
       "463                     NaN                      NaN   \n",
       "464                     NaN                      NaN   \n",
       "465                     NaN                      NaN   \n",
       "\n",
       "    Crime Against Women ( Combined ):\\n1. Murder with Rape \\n2. Dowry Deaths(Sec. 3048)\\n3. Suicide(sec 305/306)\\n4. Kidnapping(All)\\n5. Acid Attack(Sec. 326A IPC)\\n6. Cruelty by Husband/in-laws((Sec.498 A IPC)\\n7. Rape only(Sec. 376 or 511 IPC)\\n8. Assault on Women with Intent to Outrage her Modesty (Sec. 354 IPC)\\n9. Cyber Crimes against Women\\n10. Protection of Children from Sexual Offences Act  \\\n",
       "0                                                 8,10                                                                                                                                                                                                                                                                                                                                                             \n",
       "1                                                  NaN                                                                                                                                                                                                                                                                                                                                                             \n",
       "2                                                  NaN                                                                                                                                                                                                                                                                                                                                                             \n",
       "3                                                  NaN                                                                                                                                                                                                                                                                                                                                                             \n",
       "4                                                  NaN                                                                                                                                                                                                                                                                                                                                                             \n",
       "..                                                 ...                                                                                                                                                                                                                                                                                                                                                             \n",
       "461                                                  7                                                                                                                                                                                                                                                                                                                                                             \n",
       "462                                                  1                                                                                                                                                                                                                                                                                                                                                             \n",
       "463                                                3,8                                                                                                                                                                                                                                                                                                                                                             \n",
       "464                                                  8                                                                                                                                                                                                                                                                                                                                                             \n",
       "465                                                NaN                                                                                                                                                                                                                                                                                                                                                             \n",
       "\n",
       "     Number of adult victims  Number of childs invoved  \n",
       "0                        NaN                       3.0  \n",
       "1                        NaN                       NaN  \n",
       "2                        NaN                       NaN  \n",
       "3                        NaN                       NaN  \n",
       "4                        NaN                       NaN  \n",
       "..                       ...                       ...  \n",
       "461                      1.0                       NaN  \n",
       "462                      1.0                       NaN  \n",
       "463                      NaN                       1.0  \n",
       "464                      1.0                       NaN  \n",
       "465                      NaN                       NaN  \n",
       "\n",
       "[466 rows x 13 columns]"
      ]
     },
     "execution_count": 4,
     "metadata": {},
     "output_type": "execute_result"
    }
   ],
   "source": [
    "df"
   ]
  },
  {
   "cell_type": "code",
   "execution_count": 5,
   "metadata": {},
   "outputs": [],
   "source": [
    "#droping title and text columns\n",
    "x_full = df.drop(axis = 1, labels = ['Title','Text'])"
   ]
  },
  {
   "cell_type": "code",
   "execution_count": 6,
   "metadata": {},
   "outputs": [
    {
     "data": {
      "text/plain": [
       "Index(['City ', 'Murder Reason', 'Number of child victims',\n",
       "       'Number of male victims(adult)', 'Number of female victims(adult)',\n",
       "       'Kidnnaping:\\nNumber of child victims', 'Number of male(adult) ',\n",
       "       'Number of female(adult)', 'crime against women(Act)',\n",
       "       'Number of adult victims', 'Number of childs invoved'],\n",
       "      dtype='object')"
      ]
     },
     "execution_count": 6,
     "metadata": {},
     "output_type": "execute_result"
    }
   ],
   "source": [
    "#Renaming big column names(cleaning)\n",
    "x_full = x_full.rename(columns = {'Murder Happened with reason:\\n1:Property/Land Disputes,\\n2:Family Dispute\\n3:Petty Quarrels,\\n4:Money Disputes, \\n5:Personal Vendetta, \\n6:Love Affairs, \\n7:Casteism\\n8: Unknown/other':'Murder Reason', 'Crime Against Women ( Combined ):\\n1. Murder with Rape \\n2. Dowry Deaths(Sec. 3048)\\n3. Suicide(sec 305/306)\\n4. Kidnapping(All)\\n5. Acid Attack(Sec. 326A IPC)\\n6. Cruelty by Husband/in-laws((Sec.498 A IPC)\\n7. Rape only(Sec. 376 or 511 IPC)\\n8. Assault on Women with Intent to Outrage her Modesty (Sec. 354 IPC)\\n9. Cyber Crimes against Women\\n10. Protection of Children from Sexual Offences Act':'crime against women(Act)'})\n",
    "x_full.columns"
   ]
  },
  {
   "cell_type": "code",
   "execution_count": 7,
   "metadata": {},
   "outputs": [],
   "source": [
    "#drop rows with all null values apart from 'City '( cleaning )\n",
    "x_full = x_full.dropna(axis = 0, subset= ['City '], how = 'all')"
   ]
  },
  {
   "cell_type": "code",
   "execution_count": 8,
   "metadata": {},
   "outputs": [
    {
     "data": {
      "text/plain": [
       "City                                      0\n",
       "Murder Reason                           319\n",
       "Number of child victims                 453\n",
       "Number of male victims(adult)           371\n",
       "Number of female victims(adult)         419\n",
       "Kidnnaping:\\nNumber of child victims    455\n",
       "Number of male(adult)                   458\n",
       "Number of female(adult)                 463\n",
       "crime against women(Act)                266\n",
       "Number of adult victims                 350\n",
       "Number of childs invoved                381\n",
       "dtype: int64"
      ]
     },
     "execution_count": 8,
     "metadata": {},
     "output_type": "execute_result"
    }
   ],
   "source": [
    "#checking Null Values\n",
    "x_full.isnull().sum()"
   ]
  },
  {
   "cell_type": "code",
   "execution_count": 9,
   "metadata": {},
   "outputs": [],
   "source": [
    "#replacing NaN values in \"number of\" type and NaN values in crime agaisnt women column with 0 \n",
    "x_full = x_full.fillna(0)"
   ]
  },
  {
   "cell_type": "code",
   "execution_count": 10,
   "metadata": {},
   "outputs": [
    {
     "data": {
      "text/html": [
       "<div>\n",
       "<style scoped>\n",
       "    .dataframe tbody tr th:only-of-type {\n",
       "        vertical-align: middle;\n",
       "    }\n",
       "\n",
       "    .dataframe tbody tr th {\n",
       "        vertical-align: top;\n",
       "    }\n",
       "\n",
       "    .dataframe thead th {\n",
       "        text-align: right;\n",
       "    }\n",
       "</style>\n",
       "<table border=\"1\" class=\"dataframe\">\n",
       "  <thead>\n",
       "    <tr style=\"text-align: right;\">\n",
       "      <th></th>\n",
       "      <th>City</th>\n",
       "      <th>Murder Reason</th>\n",
       "      <th>Number of child victims</th>\n",
       "      <th>Number of male victims(adult)</th>\n",
       "      <th>Number of female victims(adult)</th>\n",
       "      <th>Kidnnaping:\\nNumber of child victims</th>\n",
       "      <th>Number of male(adult)</th>\n",
       "      <th>Number of female(adult)</th>\n",
       "      <th>crime against women(Act)</th>\n",
       "      <th>Act 1</th>\n",
       "      <th>...</th>\n",
       "      <th>Act 4</th>\n",
       "      <th>Act 5</th>\n",
       "      <th>Act 6</th>\n",
       "      <th>Act 7</th>\n",
       "      <th>Act 8</th>\n",
       "      <th>Act 9</th>\n",
       "      <th>Act 10</th>\n",
       "      <th>Number of adult victims</th>\n",
       "      <th>Number of childs invoved</th>\n",
       "      <th>Act 11</th>\n",
       "    </tr>\n",
       "  </thead>\n",
       "  <tbody>\n",
       "    <tr>\n",
       "      <th>0</th>\n",
       "      <td>Ghaziabad</td>\n",
       "      <td>0</td>\n",
       "      <td>0.0</td>\n",
       "      <td>0.0</td>\n",
       "      <td>0.0</td>\n",
       "      <td>0.0</td>\n",
       "      <td>0.0</td>\n",
       "      <td>0.0</td>\n",
       "      <td>8,10</td>\n",
       "      <td>0</td>\n",
       "      <td>...</td>\n",
       "      <td>0</td>\n",
       "      <td>0</td>\n",
       "      <td>0</td>\n",
       "      <td>0</td>\n",
       "      <td>1</td>\n",
       "      <td>0</td>\n",
       "      <td>1</td>\n",
       "      <td>0.0</td>\n",
       "      <td>3.0</td>\n",
       "      <td>NaN</td>\n",
       "    </tr>\n",
       "    <tr>\n",
       "      <th>1</th>\n",
       "      <td>Ghaziabad</td>\n",
       "      <td>0</td>\n",
       "      <td>0.0</td>\n",
       "      <td>0.0</td>\n",
       "      <td>0.0</td>\n",
       "      <td>0.0</td>\n",
       "      <td>0.0</td>\n",
       "      <td>0.0</td>\n",
       "      <td>0</td>\n",
       "      <td>0</td>\n",
       "      <td>...</td>\n",
       "      <td>0</td>\n",
       "      <td>0</td>\n",
       "      <td>0</td>\n",
       "      <td>0</td>\n",
       "      <td>0</td>\n",
       "      <td>0</td>\n",
       "      <td>0</td>\n",
       "      <td>0.0</td>\n",
       "      <td>0.0</td>\n",
       "      <td>NaN</td>\n",
       "    </tr>\n",
       "    <tr>\n",
       "      <th>2</th>\n",
       "      <td>Ghaziabad</td>\n",
       "      <td>0</td>\n",
       "      <td>0.0</td>\n",
       "      <td>0.0</td>\n",
       "      <td>0.0</td>\n",
       "      <td>0.0</td>\n",
       "      <td>0.0</td>\n",
       "      <td>0.0</td>\n",
       "      <td>0</td>\n",
       "      <td>0</td>\n",
       "      <td>...</td>\n",
       "      <td>0</td>\n",
       "      <td>0</td>\n",
       "      <td>0</td>\n",
       "      <td>0</td>\n",
       "      <td>0</td>\n",
       "      <td>0</td>\n",
       "      <td>0</td>\n",
       "      <td>0.0</td>\n",
       "      <td>0.0</td>\n",
       "      <td>NaN</td>\n",
       "    </tr>\n",
       "    <tr>\n",
       "      <th>3</th>\n",
       "      <td>Ghaziabad</td>\n",
       "      <td>0</td>\n",
       "      <td>0.0</td>\n",
       "      <td>0.0</td>\n",
       "      <td>0.0</td>\n",
       "      <td>0.0</td>\n",
       "      <td>0.0</td>\n",
       "      <td>0.0</td>\n",
       "      <td>0</td>\n",
       "      <td>0</td>\n",
       "      <td>...</td>\n",
       "      <td>0</td>\n",
       "      <td>0</td>\n",
       "      <td>0</td>\n",
       "      <td>0</td>\n",
       "      <td>0</td>\n",
       "      <td>0</td>\n",
       "      <td>0</td>\n",
       "      <td>0.0</td>\n",
       "      <td>0.0</td>\n",
       "      <td>NaN</td>\n",
       "    </tr>\n",
       "    <tr>\n",
       "      <th>4</th>\n",
       "      <td>Ghaziabad</td>\n",
       "      <td>0</td>\n",
       "      <td>0.0</td>\n",
       "      <td>0.0</td>\n",
       "      <td>0.0</td>\n",
       "      <td>0.0</td>\n",
       "      <td>0.0</td>\n",
       "      <td>0.0</td>\n",
       "      <td>0</td>\n",
       "      <td>0</td>\n",
       "      <td>...</td>\n",
       "      <td>0</td>\n",
       "      <td>0</td>\n",
       "      <td>0</td>\n",
       "      <td>0</td>\n",
       "      <td>0</td>\n",
       "      <td>0</td>\n",
       "      <td>0</td>\n",
       "      <td>0.0</td>\n",
       "      <td>0.0</td>\n",
       "      <td>NaN</td>\n",
       "    </tr>\n",
       "    <tr>\n",
       "      <th>...</th>\n",
       "      <td>...</td>\n",
       "      <td>...</td>\n",
       "      <td>...</td>\n",
       "      <td>...</td>\n",
       "      <td>...</td>\n",
       "      <td>...</td>\n",
       "      <td>...</td>\n",
       "      <td>...</td>\n",
       "      <td>...</td>\n",
       "      <td>...</td>\n",
       "      <td>...</td>\n",
       "      <td>...</td>\n",
       "      <td>...</td>\n",
       "      <td>...</td>\n",
       "      <td>...</td>\n",
       "      <td>...</td>\n",
       "      <td>...</td>\n",
       "      <td>...</td>\n",
       "      <td>...</td>\n",
       "      <td>...</td>\n",
       "      <td>...</td>\n",
       "    </tr>\n",
       "    <tr>\n",
       "      <th>461</th>\n",
       "      <td>Lucknow</td>\n",
       "      <td>0</td>\n",
       "      <td>0.0</td>\n",
       "      <td>0.0</td>\n",
       "      <td>0.0</td>\n",
       "      <td>0.0</td>\n",
       "      <td>0.0</td>\n",
       "      <td>0.0</td>\n",
       "      <td>7</td>\n",
       "      <td>0</td>\n",
       "      <td>...</td>\n",
       "      <td>0</td>\n",
       "      <td>0</td>\n",
       "      <td>0</td>\n",
       "      <td>1</td>\n",
       "      <td>0</td>\n",
       "      <td>0</td>\n",
       "      <td>0</td>\n",
       "      <td>1.0</td>\n",
       "      <td>0.0</td>\n",
       "      <td>NaN</td>\n",
       "    </tr>\n",
       "    <tr>\n",
       "      <th>462</th>\n",
       "      <td>Lucknow</td>\n",
       "      <td>0</td>\n",
       "      <td>0.0</td>\n",
       "      <td>0.0</td>\n",
       "      <td>0.0</td>\n",
       "      <td>0.0</td>\n",
       "      <td>0.0</td>\n",
       "      <td>0.0</td>\n",
       "      <td>1</td>\n",
       "      <td>1</td>\n",
       "      <td>...</td>\n",
       "      <td>0</td>\n",
       "      <td>0</td>\n",
       "      <td>0</td>\n",
       "      <td>0</td>\n",
       "      <td>0</td>\n",
       "      <td>0</td>\n",
       "      <td>0</td>\n",
       "      <td>1.0</td>\n",
       "      <td>0.0</td>\n",
       "      <td>NaN</td>\n",
       "    </tr>\n",
       "    <tr>\n",
       "      <th>463</th>\n",
       "      <td>Lucknow</td>\n",
       "      <td>0</td>\n",
       "      <td>0.0</td>\n",
       "      <td>0.0</td>\n",
       "      <td>0.0</td>\n",
       "      <td>0.0</td>\n",
       "      <td>0.0</td>\n",
       "      <td>0.0</td>\n",
       "      <td>3,8</td>\n",
       "      <td>0</td>\n",
       "      <td>...</td>\n",
       "      <td>0</td>\n",
       "      <td>0</td>\n",
       "      <td>0</td>\n",
       "      <td>0</td>\n",
       "      <td>1</td>\n",
       "      <td>0</td>\n",
       "      <td>0</td>\n",
       "      <td>0.0</td>\n",
       "      <td>1.0</td>\n",
       "      <td>NaN</td>\n",
       "    </tr>\n",
       "    <tr>\n",
       "      <th>464</th>\n",
       "      <td>Lucknow</td>\n",
       "      <td>0</td>\n",
       "      <td>0.0</td>\n",
       "      <td>0.0</td>\n",
       "      <td>0.0</td>\n",
       "      <td>0.0</td>\n",
       "      <td>0.0</td>\n",
       "      <td>0.0</td>\n",
       "      <td>8</td>\n",
       "      <td>0</td>\n",
       "      <td>...</td>\n",
       "      <td>0</td>\n",
       "      <td>0</td>\n",
       "      <td>0</td>\n",
       "      <td>0</td>\n",
       "      <td>1</td>\n",
       "      <td>0</td>\n",
       "      <td>0</td>\n",
       "      <td>1.0</td>\n",
       "      <td>0.0</td>\n",
       "      <td>NaN</td>\n",
       "    </tr>\n",
       "    <tr>\n",
       "      <th>465</th>\n",
       "      <td>Lucknow</td>\n",
       "      <td>Petty Quarrels</td>\n",
       "      <td>0.0</td>\n",
       "      <td>1.0</td>\n",
       "      <td>0.0</td>\n",
       "      <td>0.0</td>\n",
       "      <td>0.0</td>\n",
       "      <td>0.0</td>\n",
       "      <td>0</td>\n",
       "      <td>0</td>\n",
       "      <td>...</td>\n",
       "      <td>0</td>\n",
       "      <td>0</td>\n",
       "      <td>0</td>\n",
       "      <td>0</td>\n",
       "      <td>0</td>\n",
       "      <td>0</td>\n",
       "      <td>0</td>\n",
       "      <td>0.0</td>\n",
       "      <td>0.0</td>\n",
       "      <td>NaN</td>\n",
       "    </tr>\n",
       "  </tbody>\n",
       "</table>\n",
       "<p>466 rows × 22 columns</p>\n",
       "</div>"
      ],
      "text/plain": [
       "         City    Murder Reason  Number of child victims  \\\n",
       "0    Ghaziabad               0                      0.0   \n",
       "1    Ghaziabad               0                      0.0   \n",
       "2    Ghaziabad               0                      0.0   \n",
       "3    Ghaziabad               0                      0.0   \n",
       "4    Ghaziabad               0                      0.0   \n",
       "..         ...             ...                      ...   \n",
       "461    Lucknow               0                      0.0   \n",
       "462    Lucknow               0                      0.0   \n",
       "463    Lucknow               0                      0.0   \n",
       "464    Lucknow               0                      0.0   \n",
       "465    Lucknow  Petty Quarrels                      0.0   \n",
       "\n",
       "     Number of male victims(adult)  Number of female victims(adult)  \\\n",
       "0                              0.0                              0.0   \n",
       "1                              0.0                              0.0   \n",
       "2                              0.0                              0.0   \n",
       "3                              0.0                              0.0   \n",
       "4                              0.0                              0.0   \n",
       "..                             ...                              ...   \n",
       "461                            0.0                              0.0   \n",
       "462                            0.0                              0.0   \n",
       "463                            0.0                              0.0   \n",
       "464                            0.0                              0.0   \n",
       "465                            1.0                              0.0   \n",
       "\n",
       "     Kidnnaping:\\nNumber of child victims  Number of male(adult)   \\\n",
       "0                                     0.0                     0.0   \n",
       "1                                     0.0                     0.0   \n",
       "2                                     0.0                     0.0   \n",
       "3                                     0.0                     0.0   \n",
       "4                                     0.0                     0.0   \n",
       "..                                    ...                     ...   \n",
       "461                                   0.0                     0.0   \n",
       "462                                   0.0                     0.0   \n",
       "463                                   0.0                     0.0   \n",
       "464                                   0.0                     0.0   \n",
       "465                                   0.0                     0.0   \n",
       "\n",
       "     Number of female(adult) crime against women(Act)  Act 1  ...  Act 4  \\\n",
       "0                        0.0                     8,10      0  ...      0   \n",
       "1                        0.0                        0      0  ...      0   \n",
       "2                        0.0                        0      0  ...      0   \n",
       "3                        0.0                        0      0  ...      0   \n",
       "4                        0.0                        0      0  ...      0   \n",
       "..                       ...                      ...    ...  ...    ...   \n",
       "461                      0.0                        7      0  ...      0   \n",
       "462                      0.0                        1      1  ...      0   \n",
       "463                      0.0                      3,8      0  ...      0   \n",
       "464                      0.0                        8      0  ...      0   \n",
       "465                      0.0                        0      0  ...      0   \n",
       "\n",
       "     Act 5  Act 6  Act 7  Act 8  Act 9  Act 10  Number of adult victims  \\\n",
       "0        0      0      0      1      0       1                      0.0   \n",
       "1        0      0      0      0      0       0                      0.0   \n",
       "2        0      0      0      0      0       0                      0.0   \n",
       "3        0      0      0      0      0       0                      0.0   \n",
       "4        0      0      0      0      0       0                      0.0   \n",
       "..     ...    ...    ...    ...    ...     ...                      ...   \n",
       "461      0      0      1      0      0       0                      1.0   \n",
       "462      0      0      0      0      0       0                      1.0   \n",
       "463      0      0      0      1      0       0                      0.0   \n",
       "464      0      0      0      1      0       0                      1.0   \n",
       "465      0      0      0      0      0       0                      0.0   \n",
       "\n",
       "     Number of childs invoved  Act 11  \n",
       "0                         3.0     NaN  \n",
       "1                         0.0     NaN  \n",
       "2                         0.0     NaN  \n",
       "3                         0.0     NaN  \n",
       "4                         0.0     NaN  \n",
       "..                        ...     ...  \n",
       "461                       0.0     NaN  \n",
       "462                       0.0     NaN  \n",
       "463                       1.0     NaN  \n",
       "464                       0.0     NaN  \n",
       "465                       0.0     NaN  \n",
       "\n",
       "[466 rows x 22 columns]"
      ]
     },
     "execution_count": 10,
     "metadata": {},
     "output_type": "execute_result"
    }
   ],
   "source": [
    "#seperating acts\n",
    "crime_acts = x_full['crime against women(Act)'].astype('string').values\n",
    "for i in range(1,11):\n",
    "    x_full.insert(8+i,\"Act {}\".format(i),0)\n",
    "for j in range(len(crime_acts)):\n",
    "    splitted = crime_acts[j].split(',')\n",
    "    for x in splitted:\n",
    "        if x=='0':\n",
    "            continue\n",
    "        x_full.loc[int(j),'Act {}'.format(x.strip())]=1\n",
    "x_full"
   ]
  },
  {
   "cell_type": "markdown",
   "metadata": {},
   "source": [
    "## City-wise Crime Report"
   ]
  },
  {
   "cell_type": "code",
   "execution_count": 11,
   "metadata": {},
   "outputs": [
    {
     "data": {
      "text/plain": [
       "[Text(0.5, 1.0, 'city-wise crime count')]"
      ]
     },
     "execution_count": 11,
     "metadata": {},
     "output_type": "execute_result"
    },
    {
     "data": {
      "image/png": "[encoded data removed]",
      "text/plain": [
       "<Figure size 432x288 with 1 Axes>"
      ]
     },
     "metadata": {},
     "output_type": "display_data"
    }
   ],
   "source": [
    "sns.countplot(x = 'City ', data = x_full, palette = 'mako').set(title = 'city-wise crime count')"
   ]
  },
  {
   "cell_type": "markdown",
   "metadata": {},
   "source": [
    "## Reasons For Murder"
   ]
  },
  {
   "cell_type": "code",
   "execution_count": 12,
   "metadata": {},
   "outputs": [
    {
     "data": {
      "image/png": "[encoded data removed]",
      "text/plain": [
       "<Figure size 720x720 with 1 Axes>"
      ]
     },
     "metadata": {},
     "output_type": "display_data"
    }
   ],
   "source": [
    "plt.figure(figsize = (10,10))\n",
    "reason = x_full['Murder Reason'].value_counts().to_dict()\n",
    "reason.pop(0)\n",
    "val = list(reason.values())\n",
    "label = list(reason.keys())\n",
    "plt.title('Distribution of Reasons for Murder',fontsize = 20)\n",
    "plt.pie(x = val,labels = label)\n",
    "plt.show()"
   ]
  },
  {
   "cell_type": "markdown",
   "metadata": {},
   "source": [
    "## Love Affair victims Gender Distribution"
   ]
  },
  {
   "cell_type": "code",
   "execution_count": 13,
   "metadata": {},
   "outputs": [
    {
     "data": {
      "image/png": "[encoded data removed]",
      "text/plain": [
       "<Figure size 720x720 with 1 Axes>"
      ]
     },
     "metadata": {},
     "output_type": "display_data"
    }
   ],
   "source": [
    "#love affairs victims\n",
    "mv = x_full.loc[x_full['Murder Reason'] == 'Love Affairs', \"Number of male victims(adult)\"].sum()\n",
    "fv = x_full.loc[x_full['Murder Reason'] == 'Love Affairs', \"Number of female victims(adult)\"].sum()\n",
    "plt.figure(figsize = (10,10))\n",
    "plt.title('Love Affair victims',fontsize = 20)\n",
    "plt.pie(x = [mv,fv],labels = ['females','males'],colors = ['pink','blue'])\n",
    "plt.show()"
   ]
  },
  {
   "cell_type": "markdown",
   "metadata": {},
   "source": [
    "## What crimes are causing women's death?"
   ]
  },
  {
   "cell_type": "code",
   "execution_count": 14,
   "metadata": {},
   "outputs": [
    {
     "data": {
      "text/plain": [
       "<AxesSubplot:xlabel='Murder Reason', ylabel='count'>"
      ]
     },
     "execution_count": 14,
     "metadata": {},
     "output_type": "execute_result"
    },
    {
     "data": {
      "image/png": "[encoded data removed]",
      "text/plain": [
       "<Figure size 1080x504 with 1 Axes>"
      ]
     },
     "metadata": {},
     "output_type": "display_data"
    }
   ],
   "source": [
    "#what is the biggest cause of women's death\n",
    "wmr = x_full.loc[x_full['Number of female victims(adult)']>0]\n",
    "plt.figure(figsize = (15,7))\n",
    "sns.countplot(x = 'Murder Reason', data = wmr)"
   ]
  },
  {
   "cell_type": "markdown",
   "metadata": {},
   "source": [
    "## Cause of men's death"
   ]
  },
  {
   "cell_type": "code",
   "execution_count": 15,
   "metadata": {},
   "outputs": [
    {
     "data": {
      "text/plain": [
       "<AxesSubplot:xlabel='Murder Reason', ylabel='count'>"
      ]
     },
     "execution_count": 15,
     "metadata": {},
     "output_type": "execute_result"
    },
    {
     "data": {
      "image/png": "[encoded data removed]",
      "text/plain": [
       "<Figure size 1080x504 with 1 Axes>"
      ]
     },
     "metadata": {},
     "output_type": "display_data"
    }
   ],
   "source": [
    "wmr = x_full.loc[x_full['Number of male victims(adult)']>0]\n",
    "plt.figure(figsize = (15,7))\n",
    "sns.countplot(x = 'Murder Reason', data = wmr)"
   ]
  },
  {
   "cell_type": "markdown",
   "metadata": {},
   "source": [
    "## Distribution of Crime Againt Women on basis of Acts"
   ]
  },
  {
   "cell_type": "code",
   "execution_count": 16,
   "metadata": {},
   "outputs": [
    {
     "data": {
      "text/plain": [
       "<BarContainer object of 10 artists>"
      ]
     },
     "execution_count": 16,
     "metadata": {},
     "output_type": "execute_result"
    },
    {
     "data": {
      "image/png": "[encoded data removed]",
      "text/plain": [
       "<Figure size 1080x360 with 1 Axes>"
      ]
     },
     "metadata": {},
     "output_type": "display_data"
    }
   ],
   "source": [
    "s = x_full.iloc[:,9:(9+10)].sum()\n",
    "plt.figure(figsize = (15,5))\n",
    "plt.bar(s.index,s.values)"
   ]
  },
  {
   "cell_type": "markdown",
   "metadata": {},
   "source": [
    "## Reasons:\n",
    "-Murder with Rape\n",
    "-Dowry Deaths(Sec. 3048)\n",
    "-Suicide(sec 305/306)\n",
    "-Kidnapping(All)\n",
    "-Acid Attack(Sec. 326A IPC)\\n6. Cruelty by Husband/in-laws((Sec.498 A IPC)\n",
    "-Rape only(Sec. 376 or 511 IPC)\n",
    "-Assault on Women with Intent to Outrage her Modesty (Sec. 354 IPC)\n",
    "-Cyber Crimes against Women\n",
    "-Protection of Children from Sexual Offences Act"
   ]
  },
  {
   "cell_type": "markdown",
   "metadata": {},
   "source": [
    "## Property Disputes"
   ]
  },
  {
   "cell_type": "code",
   "execution_count": 17,
   "metadata": {},
   "outputs": [
    {
     "data": {
      "image/png": "[encoded data removed]",
      "text/plain": [
       "<Figure size 720x720 with 1 Axes>"
      ]
     },
     "metadata": {},
     "output_type": "display_data"
    }
   ],
   "source": [
    "mv = x_full.loc[x_full['Murder Reason'] == 'Property Disputes', \"Number of male victims(adult)\"].sum()\n",
    "fv = x_full.loc[x_full['Murder Reason'] == 'Property Disputes', \"Number of female victims(adult)\"].sum()\n",
    "plt.figure(figsize = (10,10))\n",
    "plt.title('Property Disputes victims',fontsize = 20)\n",
    "plt.pie(x = [mv,fv],labels = ['females','males'],colors = ['pink','blue'])\n",
    "plt.show()"
   ]
  },
  {
   "cell_type": "markdown",
   "metadata": {},
   "source": [
    "## Female vs Male involvement"
   ]
  },
  {
   "cell_type": "code",
   "execution_count": 18,
   "metadata": {},
   "outputs": [
    {
     "data": {
      "text/plain": [
       "[Text(0.5, 1.0, 'Involved in Crime')]"
      ]
     },
     "execution_count": 18,
     "metadata": {},
     "output_type": "execute_result"
    },
    {
     "data": {
      "image/png": "[encoded data removed]",
      "text/plain": [
       "<Figure size 432x288 with 1 Axes>"
      ]
     },
     "metadata": {},
     "output_type": "display_data"
    }
   ],
   "source": [
    "#females vs males crime\n",
    "sns.set_palette(\"BrBG\",1)\n",
    "females = x_full['Number of female(adult)'].sum()\n",
    "males = x_full['Number of male(adult) '].sum()\n",
    "sns.barplot(x= ['femlaes','males'], y= [females, males]).set(title = 'Involved in Crime')"
   ]
  },
  {
   "cell_type": "markdown",
   "metadata": {},
   "source": [
    "## Children vs Adulit Victims"
   ]
  },
  {
   "cell_type": "code",
   "execution_count": 19,
   "metadata": {},
   "outputs": [
    {
     "data": {
      "text/plain": [
       "[Text(0.5, 1.0, 'Victims of UP Crime')]"
      ]
     },
     "execution_count": 19,
     "metadata": {},
     "output_type": "execute_result"
    },
    {
     "data": {
      "image/png": "[encoded data removed]",
      "text/plain": [
       "<Figure size 432x288 with 1 Axes>"
      ]
     },
     "metadata": {},
     "output_type": "display_data"
    }
   ],
   "source": [
    "#Children vs Adults victims in crime city-wise\n",
    "sns.set_palette(\"RdBu\",)\n",
    "females = x_full['Number of female victims(adult)'].sum()\n",
    "males = x_full['Number of male victims(adult)'].sum()\n",
    "child = x_full['Number of child victims'].sum()\n",
    "sns.barplot(x= ['femlaes(adults)','males(adult)','children'], y= [females, males, child]).set(title = 'Victims of UP Crime')"
   ]
  },
  {
   "cell_type": "markdown",
   "metadata": {},
   "source": [
    "## City-wise Child victims"
   ]
  },
  {
   "cell_type": "code",
   "execution_count": 20,
   "metadata": {},
   "outputs": [
    {
     "data": {
      "text/plain": [
       "[Text(0.5, 1.0, 'city-wise child victims')]"
      ]
     },
     "execution_count": 20,
     "metadata": {},
     "output_type": "execute_result"
    },
    {
     "data": {
      "image/png": "[encoded data removed]",
      "text/plain": [
       "<Figure size 432x288 with 1 Axes>"
      ]
     },
     "metadata": {},
     "output_type": "display_data"
    }
   ],
   "source": [
    "#child victims city-wise\n",
    "sns.set_palette(\"YlOrBr\", 1)\n",
    "gbd = x_full.loc[x_full['City '] == 'Ghaziabad' , 'Number of child victims' ].sum()\n",
    "lkw = x_full.loc[x_full['City '] == 'Lucknow' , 'Number of child victims' ].sum()\n",
    "knp = x_full.loc[x_full['City '] == 'Kanpur' , 'Number of child victims' ].sum()\n",
    "sns.barplot(y = [gbd,lkw,knp], x = ['Ghaziabad','Lucknow', 'Kanpur']).set(title = 'city-wise child victims')"
   ]
  },
  {
   "cell_type": "code",
   "execution_count": 21,
   "metadata": {},
   "outputs": [
    {
     "data": {
      "text/plain": [
       "[Text(0.5, 1.0, 'city-wise child kidnappings')]"
      ]
     },
     "execution_count": 21,
     "metadata": {},
     "output_type": "execute_result"
    },
    {
     "data": {
      "image/png": "[encoded data removed]",
      "text/plain": [
       "<Figure size 432x288 with 1 Axes>"
      ]
     },
     "metadata": {},
     "output_type": "display_data"
    }
   ],
   "source": [
    "sns.set_palette(\"YlOrBr\", 1)\n",
    "gbd = x_full.loc[x_full['City '] == 'Ghaziabad' , 'Kidnnaping:\\nNumber of child victims' ].sum()\n",
    "lkw = x_full.loc[x_full['City '] == 'Lucknow' , 'Kidnnaping:\\nNumber of child victims' ].sum()\n",
    "knp = x_full.loc[x_full['City '] == 'Kanpur' , 'Kidnnaping:\\nNumber of child victims' ].sum()\n",
    "sns.barplot(y = [gbd,lkw,knp], x = ['Ghaziabad','Lucknow', 'Kanpur']).set(title = 'city-wise child kidnappings')"
   ]
  }
 ],
 "metadata": {
  "kernelspec": {
   "display_name": "Python 3",
   "language": "python",
   "name": "python3"
  },
  "language_info": {
   "codemirror_mode": {
    "name": "ipython",
    "version": 3
   },
   "file_extension": ".py",
   "mimetype": "text/x-python",
   "name": "python",
   "nbconvert_exporter": "python",
   "pygments_lexer": "ipython3",
   "version": "3.7.4"
  }
 },
 "nbformat": 4,
 "nbformat_minor": 4
}
